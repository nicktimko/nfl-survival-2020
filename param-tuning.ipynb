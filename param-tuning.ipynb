{
 "cells": [
  {
   "cell_type": "markdown",
   "metadata": {},
   "source": [
    "# Parameter Tuning"
   ]
  },
  {
   "cell_type": "code",
   "execution_count": 23,
   "metadata": {},
   "outputs": [],
   "source": [
    "import bisect\n",
    "import collections\n",
    "import datetime\n",
    "import enum\n",
    "import errno\n",
    "import heapq\n",
    "import json\n",
    "import math\n",
    "import random\n",
    "import statistics\n",
    "import typing\n",
    "\n",
    "import matplotlib.pyplot as plt\n",
    "import numpy as np\n",
    "import parsel\n",
    "import pandas as pd\n",
    "import requests"
   ]
  },
  {
   "cell_type": "code",
   "execution_count": 2,
   "metadata": {},
   "outputs": [],
   "source": [
    "NUM_TEAMS = 32\n",
    "NUM_WEEKS = 17\n",
    "\n",
    "# http://www.espn.com/nfl/schedulegrid\n",
    "\n",
    "# pre-week-6 schedule shuffles\n",
    "raw_schedule_old = '''\n",
    "NFL Schedule Grid\n",
    "TEAM\t1\t2\t3\t4\t5\t6\t7\t8\t9\t10\t11\t12\t13\t14\t15\t16\t17\n",
    "ARI\t@SF\tWSH\tDET\t@CAR\t@NYJ\t@DAL\tSEA\tBYE\tMIA\tBUF\t@SEA\t@NE\tLAR\t@NYG\tPHI\tSF\t@LAR\n",
    "ATL\tSEA\t@DAL\tCHI\t@GB\tCAR\t@MIN\tDET\t@CAR\tDEN\tBYE\t@NO\tLV\tNO\t@LAC\tTB\t@KC\t@TB\n",
    "BAL\tCLE\t@HOU\tKC\t@WSH\tCIN\t@PHI\tPIT\tBYE\t@IND\t@NE\tTEN\t@PIT\tDAL\t@CLE\tJAX\tNYG\t@CIN\n",
    "BUF\tNYJ\t@MIA\tLAR\t@LV\t@TEN\tKC\t@NYJ\tNE\tSEA\t@ARI\tBYE\tLAC\t@SF\tPIT\t@DEN\t@NE\tMIA\n",
    "CAR\tLV\t@TB\t@LAC\tARI\t@ATL\tCHI\t@NO\tATL\t@KC\tTB\tDET\t@MIN\tBYE\tDEN\t@GB\t@WSH\tNO\n",
    "CHI\t@DET\tNYG\t@ATL\tIND\tTB\t@CAR\t@LAR\tNO\t@TEN\tMIN\tBYE\t@GB\tDET\tHOU\t@MIN\t@JAX\tGB\n",
    "CIN\tLAC\t@CLE\t@PHI\tJAX\t@BAL\t@IND\tCLE\tTEN\tBYE\t@PIT\t@WSH\tNYG\t@MIA\tDAL\tPIT\t@HOU\tBAL\n",
    "CLE\t@BAL\tCIN\tWSH\t@DAL\tIND\t@PIT\t@CIN\tLV\tBYE\tHOU\tPHI\t@JAX\t@TEN\tBAL\t@NYG\t@NYJ\tPIT\n",
    "DAL\t@LAR\tATL\t@SEA\tCLE\tNYG\tARI\t@WSH\t@PHI\tPIT\tBYE\t@MIN\tWSH\t@BAL\t@CIN\tSF\tPHI\t@NYG\n",
    "DEN\tTEN\t@PIT\tTB\t@NYJ\t@NE\tMIA\tKC\tBYE\t@ATL\t@LV\tLAC\tNO\t@KC\t@CAR\tBUF\t@LAC\tLV\n",
    "DET\tCHI\t@GB\t@ARI\tNO\tBYE\t@JAX\t@ATL\tIND\t@MIN\tWSH\t@CAR\tHOU\t@CHI\tGB\t@TEN\tTB\tMIN\n",
    "GB\t@MIN\tDET\t@NO\tATL\tBYE\t@TB\t@HOU\tMIN\t@SF\tJAX\t@IND\tCHI\tPHI\t@DET\tCAR\tTEN\t@CHI\n",
    "HOU\t@KC\tBAL\t@PIT\tMIN\tJAX\t@TEN\tGB\tBYE\t@JAX\t@CLE\tNE\t@DET\tIND\t@CHI\t@IND\tCIN\tTEN\n",
    "IND\t@JAX\tMIN\tNYJ\t@CHI\t@CLE\tCIN\tBYE\t@DET\tBAL\t@TEN\tGB\tTEN\t@HOU\t@LV\tHOU\t@PIT\tJAX\n",
    "JAX\tIND\t@TEN\tMIA\t@CIN\t@HOU\tDET\tBYE\t@LAC\tHOU\t@GB\tPIT\tCLE\t@MIN\tTEN\t@BAL\tCHI\t@IND\n",
    "KC\tHOU\t@LAC\t@BAL\tNE\tLV\t@BUF\t@DEN\tNYJ\tCAR\tBYE\t@LV\t@TB\tDEN\t@MIA\t@NO\tATL\tLAC\n",
    "LV\t@CAR\tNO\t@NE\tBUF\t@KC\tBYE\tTB\t@CLE\t@LAC\tDEN\tKC\t@ATL\t@NYJ\tIND\tLAC\tMIA\t@DEN\n",
    "LAR\tDAL\t@PHI\t@BUF\tNYG\t@WSH\t@SF\tCHI\t@MIA\tBYE\tSEA\t@TB\tSF\t@ARI\tNE\tNYJ\t@SEA\tARI\n",
    "LAC\t@CIN\tKC\tCAR\t@TB\t@NO\tNYJ\t@MIA\tJAX\tLV\tBYE\t@DEN\t@BUF\tNE\tATL\t@LV\tDEN\t@KC\n",
    "MIA\t@NE\tBUF\t@JAX\tSEA\t@SF\t@DEN\tLAC\tLAR\t@ARI\tNYJ\tBYE\t@NYJ\tCIN\tKC\tNE\t@LV\t@BUF\n",
    "MIN\tGB\t@IND\tTEN\t@HOU\t@SEA\tATL\tBYE\t@GB\tDET\t@CHI\tDAL\tCAR\tJAX\t@TB\tCHI\t@NO\t@DET\n",
    "NE\tMIA\t@SEA\tLV\t@KC\tDEN\tBYE\tSF\t@BUF\t@NYJ\tBAL\t@HOU\tARI\t@LAC\t@LAR\t@MIA\tBUF\tNYJ\n",
    "NO\tTB\t@LV\tGB\t@DET\tLAC\tBYE\tCAR\t@CHI\t@TB\tSF\tATL\t@DEN\t@ATL\t@PHI\tKC\tMIN\t@CAR\n",
    "NYG\tPIT\t@CHI\tSF\t@LAR\t@DAL\tWSH\t@PHI\tTB\t@WSH\tPHI\tBYE\t@CIN\t@SEA\tARI\tCLE\t@BAL\tDAL\n",
    "NYJ\t@BUF\tSF\t@IND\tDEN\tARI\t@LAC\tBUF\t@KC\tNE\t@MIA\tBYE\tMIA\tLV\t@SEA\t@LAR\tCLE\t@NE\n",
    "PHI\t@WSH\tLAR\tCIN\t@SF\t@PIT\tBAL\tNYG\tDAL\tBYE\t@NYG\t@CLE\tSEA\t@GB\tNO\t@ARI\t@DAL\tWSH\n",
    "PIT\t@NYG\tDEN\tHOU\t@TEN\tPHI\tCLE\t@BAL\tBYE\t@DAL\tCIN\t@JAX\tBAL\tWSH\t@BUF\t@CIN\tIND\t@CLE\n",
    "SF\tARI\t@NYJ\t@NYG\tPHI\tMIA\tLAR\t@NE\t@SEA\tGB\t@NO\tBYE\t@LAR\tBUF\tWSH\t@DAL\t@ARI\tSEA\n",
    "SEA\t@ATL\tNE\tDAL\t@MIA\tMIN\tBYE\t@ARI\tSF\t@BUF\t@LAR\tARI\t@PHI\tNYG\tNYJ\t@WSH\tLAR\t@SF\n",
    "TB\t@NO\tCAR\t@DEN\tLAC\t@CHI\tGB\t@LV\t@NYG\tNO\t@CAR\tLAR\tKC\tBYE\tMIN\t@ATL\t@DET\tATL\n",
    "TEN\t@DEN\tJAX\t@MIN\tPIT\tBUF\tHOU\tBYE\t@CIN\tCHI\tIND\t@BAL\t@IND\tCLE\t@JAX\tDET\t@GB\t@HOU\n",
    "WSH\tPHI\t@ARI\t@CLE\tBAL\tLAR\t@NYG\tDAL\tBYE\tNYG\t@DET\tCIN\t@DAL\t@PIT\t@SF\tSEA\tCAR\t@PHI\n",
    "'''\n",
    "\n",
    "raw_schedule = '''\n",
    "NFL Schedule Grid\n",
    "TEAM\t1\t2\t3\t4\t5\t6\t7\t8\t9\t10\t11\t12\t13\t14\t15\t16\t17\n",
    "ARI\t@SF\tWSH\tDET\t@CAR\t@NYJ\t@DAL\tSEA\tBYE\tMIA\tBUF\t@SEA\t@NE\tLAR\t@NYG\tPHI\tSF\t@LAR\n",
    "ATL\tSEA\t@DAL\tCHI\t@GB\tCAR\t@MIN\tDET\t@CAR\tDEN\tBYE\t@NO\tLV\tNO\t@LAC\tTB\t@KC\t@TB\n",
    "BAL\tCLE\t@HOU\tKC\t@WSH\tCIN\t@PHI\tBYE\tPIT\t@IND\t@NE\tTEN\t@PIT\tDAL\t@CLE\tJAX\tNYG\t@CIN\n",
    "BUF\tNYJ\t@MIA\tLAR\t@LV\t@TEN\tKC\t@NYJ\tNE\tSEA\t@ARI\tBYE\tLAC\t@SF\tPIT\t@DEN\t@NE\tMIA\n",
    "CAR\tLV\t@TB\t@LAC\tARI\t@ATL\tCHI\t@NO\tATL\t@KC\tTB\tDET\t@MIN\tBYE\tDEN\t@GB\t@WSH\tNO\n",
    "CHI\t@DET\tNYG\t@ATL\tIND\tTB\t@CAR\t@LAR\tNO\t@TEN\tMIN\tBYE\t@GB\tDET\tHOU\t@MIN\t@JAX\tGB\n",
    "CIN\tLAC\t@CLE\t@PHI\tJAX\t@BAL\t@IND\tCLE\tTEN\tBYE\t@PIT\t@WSH\tNYG\t@MIA\tDAL\tPIT\t@HOU\tBAL\n",
    "CLE\t@BAL\tCIN\tWSH\t@DAL\tIND\t@PIT\t@CIN\tLV\tBYE\tHOU\tPHI\t@JAX\t@TEN\tBAL\t@NYG\t@NYJ\tPIT\n",
    "DAL\t@LAR\tATL\t@SEA\tCLE\tNYG\tARI\t@WSH\t@PHI\tPIT\tBYE\t@MIN\tWSH\t@BAL\t@CIN\tSF\tPHI\t@NYG\n",
    "DEN\tTEN\t@PIT\tTB\t@NYJ\tBYE\t@NE\tKC\tLAC\t@ATL\t@LV\tMIA\tNO\t@KC\t@CAR\tBUF\t@LAC\tLV\n",
    "DET\tCHI\t@GB\t@ARI\tNO\tBYE\t@JAX\t@ATL\tIND\t@MIN\tWSH\t@CAR\tHOU\t@CHI\tGB\t@TEN\tTB\tMIN\n",
    "GB\t@MIN\tDET\t@NO\tATL\tBYE\t@TB\t@HOU\tMIN\t@SF\tJAX\t@IND\tCHI\tPHI\t@DET\tCAR\tTEN\t@CHI\n",
    "HOU\t@KC\tBAL\t@PIT\tMIN\tJAX\t@TEN\tGB\tBYE\t@JAX\t@CLE\tNE\t@DET\tIND\t@CHI\t@IND\tCIN\tTEN\n",
    "IND\t@JAX\tMIN\tNYJ\t@CHI\t@CLE\tCIN\tBYE\t@DET\tBAL\t@TEN\tGB\tTEN\t@HOU\t@LV\tHOU\t@PIT\tJAX\n",
    "JAX\tIND\t@TEN\tMIA\t@CIN\t@HOU\tDET\t@LAC\tBYE\tHOU\t@GB\tPIT\tCLE\t@MIN\tTEN\t@BAL\tCHI\t@IND\n",
    "KC\tHOU\t@LAC\t@BAL\tNE\tLV\t@BUF\t@DEN\tNYJ\tCAR\tBYE\t@LV\t@TB\tDEN\t@MIA\t@NO\tATL\tLAC\n",
    "LV\t@CAR\tNO\t@NE\tBUF\t@KC\tBYE\tTB\t@CLE\t@LAC\tDEN\tKC\t@ATL\t@NYJ\tIND\tLAC\tMIA\t@DEN\n",
    "LAR\tDAL\t@PHI\t@BUF\tNYG\t@WSH\t@SF\tCHI\t@MIA\tBYE\tSEA\t@TB\tSF\t@ARI\tNE\tNYJ\t@SEA\tARI\n",
    "LAC\t@CIN\tKC\tCAR\t@TB\t@NO\tBYE\tJAX\t@DEN\tLV\t@MIA\tNYJ\t@BUF\tNE\tATL\t@LV\tDEN\t@KC\n",
    "MIA\t@NE\tBUF\t@JAX\tSEA\t@SF\tNYJ\tBYE\tLAR\t@ARI\tLAC\t@DEN\t@NYJ\tCIN\tKC\tNE\t@LV\t@BUF\n",
    "MIN\tGB\t@IND\tTEN\t@HOU\t@SEA\tATL\tBYE\t@GB\tDET\t@CHI\tDAL\tCAR\tJAX\t@TB\tCHI\t@NO\t@DET\n",
    "NE\tMIA\t@SEA\tLV\t@KC\tBYE\tDEN\tSF\t@BUF\t@NYJ\tBAL\t@HOU\tARI\t@LAC\t@LAR\t@MIA\tBUF\tNYJ\n",
    "NO\tTB\t@LV\tGB\t@DET\tLAC\tBYE\tCAR\t@CHI\t@TB\tSF\tATL\t@DEN\t@ATL\t@PHI\tKC\tMIN\t@CAR\n",
    "NYG\tPIT\t@CHI\tSF\t@LAR\t@DAL\tWSH\t@PHI\tTB\t@WSH\tPHI\tBYE\t@CIN\t@SEA\tARI\tCLE\t@BAL\tDAL\n",
    "NYJ\t@BUF\tSF\t@IND\tDEN\tARI\t@MIA\tBUF\t@KC\tNE\tBYE\t@LAC\tMIA\tLV\t@SEA\t@LAR\tCLE\t@NE\n",
    "PHI\t@WSH\tLAR\tCIN\t@SF\t@PIT\tBAL\tNYG\tDAL\tBYE\t@NYG\t@CLE\tSEA\t@GB\tNO\t@ARI\t@DAL\tWSH\n",
    "PIT\t@NYG\tDEN\tHOU\tBYE\tPHI\tCLE\t@TEN\t@BAL\t@DAL\tCIN\t@JAX\tBAL\tWSH\t@BUF\t@CIN\tIND\t@CLE\n",
    "SF\tARI\t@NYJ\t@NYG\tPHI\tMIA\tLAR\t@NE\t@SEA\tGB\t@NO\tBYE\t@LAR\tBUF\tWSH\t@DAL\t@ARI\tSEA\n",
    "SEA\t@ATL\tNE\tDAL\t@MIA\tMIN\tBYE\t@ARI\tSF\t@BUF\t@LAR\tARI\t@PHI\tNYG\tNYJ\t@WSH\tLAR\t@SF\n",
    "TB\t@NO\tCAR\t@DEN\tLAC\t@CHI\tGB\t@LV\t@NYG\tNO\t@CAR\tLAR\tKC\tBYE\tMIN\t@ATL\t@DET\tATL\n",
    "TEN\t@DEN\tJAX\t@MIN\tBYE\tBUF\tHOU\tPIT\t@CIN\tCHI\tIND\t@BAL\t@IND\tCLE\t@JAX\tDET\t@GB\t@HOU\n",
    "WSH\tPHI\t@ARI\t@CLE\tBAL\tLAR\t@NYG\tDAL\tBYE\tNYG\t@DET\tCIN\t@DAL\t@PIT\t@SF\tSEA\tCAR\t@PHI\n",
    "'''\n",
    "\n",
    "class Match(collections.namedtuple(\"Match\", \"home away\")):\n",
    "    def __repr__(self):\n",
    "        return f\"<{self.__class__.__name__}: {self.away} @ {self.home}>\"\n",
    "    \n",
    "# Match(\"NY\", \"NJ\")\n",
    "\n",
    "lines = raw_schedule.strip().splitlines()\n",
    "team_lines = lines[2:]\n",
    "schedule = {}\n",
    "games_per_team = collections.Counter()\n",
    "for tl in team_lines:\n",
    "    cols = tl.split(\"\\t\")\n",
    "    assert len(cols) == 18\n",
    "    \n",
    "    team = cols[0]\n",
    "    for n_wk, match in enumerate(cols[1:], start=1):\n",
    "        if match == \"BYE\":\n",
    "            continue\n",
    "        schedule.setdefault(n_wk, [])\n",
    "        games_per_team[match.strip(\"@\")] += 1\n",
    "        if match.startswith(\"@\"):\n",
    "            continue  # skip to avoid double counts\n",
    "        schedule[n_wk].append(Match(team, match))\n",
    "    \n",
    "assert all(n == 16 for n in games_per_team.values())"
   ]
  },
  {
   "cell_type": "markdown",
   "metadata": {},
   "source": [
    "https://www.espn.com/nfl/fpi"
   ]
  },
  {
   "cell_type": "code",
   "execution_count": 3,
   "metadata": {},
   "outputs": [],
   "source": [
    "def get_espn_powers():\n",
    "    data = requests.get(\"https://www.espn.com/nfl/fpi\")\n",
    "    selector = parsel.Selector(data.text)\n",
    "    data_table = selector.xpath(\"//div[@class='Table__Scroller']/table\")\n",
    "\n",
    "    tables = selector.xpath(\"//div[contains(concat(' ', @class, ' '), ' league-nfl ')]//table\")\n",
    "    assert len(tables) == 2\n",
    "    name_table, data_table = tables\n",
    "\n",
    "    club_table = {}\n",
    "    for club in name_table.xpath(\"descendant::*[@data-idx]\"):\n",
    "        club_idx = club.xpath(\"@data-idx\").extract_first()\n",
    "        club_url = club.xpath(\"descendant::*[@data-clubhouse-uid]/@href\")\n",
    "        url = club_url.extract_first()\n",
    "        parts = url.split(\"/\")\n",
    "        assert parts[4] == \"name\"\n",
    "        club_table[parts[5].strip().upper()] = int(club_idx)\n",
    "\n",
    "    assert len(club_table) == NUM_TEAMS\n",
    "\n",
    "    powers = {}\n",
    "    for club, idx in club_table.items():\n",
    "        xq = f\"tbody/*[@data-idx='{idx}']\"\n",
    "        r = data_table.xpath(xq)\n",
    "        cols = r.xpath(\"td/div/text()\")\n",
    "        pwr = float(cols[1].extract())\n",
    "        powers[club] = pwr\n",
    "\n",
    "    assert set(powers) == set(club_table)\n",
    "    \n",
    "    return powers\n",
    "\n",
    "powers = get_espn_powers()"
   ]
  },
  {
   "cell_type": "code",
   "execution_count": 60,
   "metadata": {},
   "outputs": [
    {
     "name": "stdout",
     "output_type": "stream",
     "text": [
      "2020-11-17T11:33:43.132743\n"
     ]
    },
    {
     "data": {
      "text/html": [
       "<div>\n",
       "<style scoped>\n",
       "    .dataframe tbody tr th:only-of-type {\n",
       "        vertical-align: middle;\n",
       "    }\n",
       "\n",
       "    .dataframe tbody tr th {\n",
       "        vertical-align: top;\n",
       "    }\n",
       "\n",
       "    .dataframe thead th {\n",
       "        text-align: right;\n",
       "    }\n",
       "</style>\n",
       "<table border=\"1\" class=\"dataframe\">\n",
       "  <thead>\n",
       "    <tr style=\"text-align: right;\">\n",
       "      <th></th>\n",
       "      <th>0</th>\n",
       "      <th>1</th>\n",
       "    </tr>\n",
       "  </thead>\n",
       "  <tbody>\n",
       "    <tr>\n",
       "      <th>0</th>\n",
       "      <td>KC</td>\n",
       "      <td>10.3</td>\n",
       "    </tr>\n",
       "    <tr>\n",
       "      <th>1</th>\n",
       "      <td>TB</td>\n",
       "      <td>7.1</td>\n",
       "    </tr>\n",
       "    <tr>\n",
       "      <th>2</th>\n",
       "      <td>NO</td>\n",
       "      <td>6.7</td>\n",
       "    </tr>\n",
       "    <tr>\n",
       "      <th>3</th>\n",
       "      <td>BAL</td>\n",
       "      <td>6.2</td>\n",
       "    </tr>\n",
       "    <tr>\n",
       "      <th>4</th>\n",
       "      <td>PIT</td>\n",
       "      <td>5.1</td>\n",
       "    </tr>\n",
       "    <tr>\n",
       "      <th>5</th>\n",
       "      <td>GB</td>\n",
       "      <td>4.4</td>\n",
       "    </tr>\n",
       "    <tr>\n",
       "      <th>6</th>\n",
       "      <td>LAR</td>\n",
       "      <td>4.4</td>\n",
       "    </tr>\n",
       "    <tr>\n",
       "      <th>7</th>\n",
       "      <td>SEA</td>\n",
       "      <td>4.0</td>\n",
       "    </tr>\n",
       "    <tr>\n",
       "      <th>8</th>\n",
       "      <td>SF</td>\n",
       "      <td>3.3</td>\n",
       "    </tr>\n",
       "    <tr>\n",
       "      <th>9</th>\n",
       "      <td>ARI</td>\n",
       "      <td>2.5</td>\n",
       "    </tr>\n",
       "    <tr>\n",
       "      <th>10</th>\n",
       "      <td>MIN</td>\n",
       "      <td>2.0</td>\n",
       "    </tr>\n",
       "    <tr>\n",
       "      <th>11</th>\n",
       "      <td>BUF</td>\n",
       "      <td>1.8</td>\n",
       "    </tr>\n",
       "    <tr>\n",
       "      <th>12</th>\n",
       "      <td>LV</td>\n",
       "      <td>1.2</td>\n",
       "    </tr>\n",
       "    <tr>\n",
       "      <th>13</th>\n",
       "      <td>IND</td>\n",
       "      <td>1.2</td>\n",
       "    </tr>\n",
       "    <tr>\n",
       "      <th>14</th>\n",
       "      <td>TEN</td>\n",
       "      <td>0.7</td>\n",
       "    </tr>\n",
       "    <tr>\n",
       "      <th>15</th>\n",
       "      <td>NE</td>\n",
       "      <td>0.5</td>\n",
       "    </tr>\n",
       "    <tr>\n",
       "      <th>16</th>\n",
       "      <td>MIA</td>\n",
       "      <td>-0.8</td>\n",
       "    </tr>\n",
       "    <tr>\n",
       "      <th>17</th>\n",
       "      <td>ATL</td>\n",
       "      <td>-0.9</td>\n",
       "    </tr>\n",
       "    <tr>\n",
       "      <th>18</th>\n",
       "      <td>PHI</td>\n",
       "      <td>-1.4</td>\n",
       "    </tr>\n",
       "    <tr>\n",
       "      <th>19</th>\n",
       "      <td>CLE</td>\n",
       "      <td>-2.0</td>\n",
       "    </tr>\n",
       "    <tr>\n",
       "      <th>20</th>\n",
       "      <td>CAR</td>\n",
       "      <td>-2.0</td>\n",
       "    </tr>\n",
       "    <tr>\n",
       "      <th>21</th>\n",
       "      <td>HOU</td>\n",
       "      <td>-2.2</td>\n",
       "    </tr>\n",
       "    <tr>\n",
       "      <th>22</th>\n",
       "      <td>CHI</td>\n",
       "      <td>-2.4</td>\n",
       "    </tr>\n",
       "    <tr>\n",
       "      <th>23</th>\n",
       "      <td>LAC</td>\n",
       "      <td>-2.6</td>\n",
       "    </tr>\n",
       "    <tr>\n",
       "      <th>24</th>\n",
       "      <td>WSH</td>\n",
       "      <td>-3.7</td>\n",
       "    </tr>\n",
       "    <tr>\n",
       "      <th>25</th>\n",
       "      <td>DEN</td>\n",
       "      <td>-4.0</td>\n",
       "    </tr>\n",
       "    <tr>\n",
       "      <th>26</th>\n",
       "      <td>CIN</td>\n",
       "      <td>-4.4</td>\n",
       "    </tr>\n",
       "    <tr>\n",
       "      <th>27</th>\n",
       "      <td>NYG</td>\n",
       "      <td>-4.6</td>\n",
       "    </tr>\n",
       "    <tr>\n",
       "      <th>28</th>\n",
       "      <td>DET</td>\n",
       "      <td>-4.8</td>\n",
       "    </tr>\n",
       "    <tr>\n",
       "      <th>29</th>\n",
       "      <td>DAL</td>\n",
       "      <td>-7.8</td>\n",
       "    </tr>\n",
       "    <tr>\n",
       "      <th>30</th>\n",
       "      <td>JAX</td>\n",
       "      <td>-8.6</td>\n",
       "    </tr>\n",
       "    <tr>\n",
       "      <th>31</th>\n",
       "      <td>NYJ</td>\n",
       "      <td>-9.0</td>\n",
       "    </tr>\n",
       "  </tbody>\n",
       "</table>\n",
       "</div>"
      ],
      "text/plain": [
       "      0     1\n",
       "0    KC  10.3\n",
       "1    TB   7.1\n",
       "2    NO   6.7\n",
       "3   BAL   6.2\n",
       "4   PIT   5.1\n",
       "5    GB   4.4\n",
       "6   LAR   4.4\n",
       "7   SEA   4.0\n",
       "8    SF   3.3\n",
       "9   ARI   2.5\n",
       "10  MIN   2.0\n",
       "11  BUF   1.8\n",
       "12   LV   1.2\n",
       "13  IND   1.2\n",
       "14  TEN   0.7\n",
       "15   NE   0.5\n",
       "16  MIA  -0.8\n",
       "17  ATL  -0.9\n",
       "18  PHI  -1.4\n",
       "19  CLE  -2.0\n",
       "20  CAR  -2.0\n",
       "21  HOU  -2.2\n",
       "22  CHI  -2.4\n",
       "23  LAC  -2.6\n",
       "24  WSH  -3.7\n",
       "25  DEN  -4.0\n",
       "26  CIN  -4.4\n",
       "27  NYG  -4.6\n",
       "28  DET  -4.8\n",
       "29  DAL  -7.8\n",
       "30  JAX  -8.6\n",
       "31  NYJ  -9.0"
      ]
     },
     "execution_count": 60,
     "metadata": {},
     "output_type": "execute_result"
    }
   ],
   "source": [
    "powers = get_espn_powers()\n",
    "print(datetime.datetime.now().isoformat())\n",
    "pd.DataFrame(powers.items())"
   ]
  },
  {
   "cell_type": "code",
   "execution_count": 6,
   "metadata": {},
   "outputs": [],
   "source": [
    "# check schedule names match power names\n",
    "assert set(powers) == set(games_per_team)"
   ]
  },
  {
   "cell_type": "code",
   "execution_count": 42,
   "metadata": {},
   "outputs": [],
   "source": [
    "HOME_POWER_BUMP = 3.0\n",
    "\n",
    "verb_template = \"week {wk:2d}: diff {d:+5.1f} - picking {p:3s} ({ps:+3.1f}%PH%) over {vp:3s} ({vps:+3.1f}%VPH%)\"\n",
    "\n",
    "\n",
    "def pick_power_calculator(\n",
    "    powers, \n",
    "    schedule, \n",
    "    picks, \n",
    "    home_power=HOME_POWER_BUMP, \n",
    "    verbose=False,\n",
    "    ignore_weeks=0,\n",
    "):\n",
    "    if len(picks) != 17:\n",
    "        raise ValueError(\"17 weeks of picks needed\")\n",
    "    if len(set(picks)) != 17:\n",
    "        raise ValueError(\"unique picks needed\")\n",
    "    if not all(p in powers for p in picks):\n",
    "        raise ValueError(\"unrecognized team initials\")\n",
    "        \n",
    "    pick_powers = []\n",
    "    for n_week, pick in zip(sorted(schedule), picks):\n",
    "        if n_week <= ignore_weeks:\n",
    "            continue\n",
    "        wk_sched = schedule[n_week]\n",
    "        for match in wk_sched:\n",
    "            if match.home == pick:\n",
    "                pick_powers.append(powers[match.home] - powers[match.away] + home_power)\n",
    "                if verbose:\n",
    "                    print(verb_template.replace(\"%PH%\", \"+H\").replace(\"%VPH%\", \"  \").format(\n",
    "                        wk=n_week,\n",
    "                        d = pick_powers[-1],\n",
    "                        p=match.home,\n",
    "                        ps=powers[match.home],\n",
    "                        vp=match.away,\n",
    "                        vps=powers[match.away],\n",
    "                        \n",
    "                    ))\n",
    "                break\n",
    "            if match.away == pick:\n",
    "                pick_powers.append(powers[match.away] - powers[match.home] - home_power)\n",
    "                if verbose:\n",
    "                    print(verb_template.replace(\"%VPH%\", \"+H\").replace(\"%PH%\", \"  \").format(\n",
    "                        wk=n_week,\n",
    "                        d = pick_powers[-1],\n",
    "                        vp=match.home,\n",
    "                        vps=powers[match.home],\n",
    "                        p=match.away,\n",
    "                        ps=powers[match.away],\n",
    "                        \n",
    "                    ))\n",
    "                break\n",
    "        else:\n",
    "            raise ValueError(f\"team {pick} does not play in week {n_week}\")\n",
    "    return pick_powers       \n",
    "\n",
    "BYE_SCORE = -10\n",
    "\n",
    "def pick_grid(powers, schedule, home_bump=HOME_POWER_BUMP):\n",
    "    matrix = []\n",
    "    \n",
    "    index = sorted(powers, key=lambda x: powers[x])\n",
    "    \n",
    "    for n_week, matches in sorted(schedule.items()):\n",
    "        teams = {}\n",
    "        for match in matches:\n",
    "            teams[match.home] = powers[match.home] - powers[match.away] + home_bump\n",
    "            teams[match.away] = powers[match.away] - powers[match.home] - home_bump\n",
    "        week_col = [teams.get(t, BYE_SCORE) for t in index]\n",
    "        matrix.append(week_col)\n",
    "    return index, matrix"
   ]
  },
  {
   "cell_type": "code",
   "execution_count": 8,
   "metadata": {},
   "outputs": [
    {
     "name": "stdout",
     "output_type": "stream",
     "text": [
      "week  1: diff  +0.3 - picking DET (-4.8+H) over CHI (-2.1  )\n",
      "week  2: diff -12.1 - picking DEN (-4.0  ) over PIT (+5.1+H)\n",
      "week  3: diff  -4.8 - picking NYG (-4.5+H) over SF  (+3.3  )\n",
      "week  4: diff  +8.3 - picking GB  (+4.4+H) over ATL (-0.9  )\n",
      "week  5: diff  +9.5 - picking PIT (+5.1+H) over PHI (-1.4  )\n",
      "week  6: diff  -1.9 - picking LAR (+4.4  ) over SF  (+3.3+H)\n",
      "week  7: diff  +0.2 - picking NE  (+0.5+H) over SF  (+3.3  )\n",
      "week  8: diff  +4.1 - picking BAL (+6.2+H) over PIT (+5.1  )\n",
      "week  9: diff  -6.3 - picking MIA (-0.8  ) over ARI (+2.5+H)\n",
      "week 10: diff -12.5 - picking CIN (-4.4  ) over PIT (+5.1+H)\n",
      "week 11: diff  +0.3 - picking HOU (-2.2+H) over NE  (+0.5  )\n",
      "week 12: diff  -1.0 - picking ARI (+2.5  ) over NE  (+0.5+H)\n",
      "week 13: diff  -7.3 - picking NYJ (-9.1+H) over LV  (+1.2  )\n",
      "week 14: diff  +1.3 - picking LAC (-2.6+H) over ATL (-0.9  )\n",
      "week 15: diff  +6.8 - picking LV  (+1.2+H) over LAC (-2.6  )\n",
      "week 16: diff  -1.3 - picking CAR (-2.0  ) over WSH (-3.7+H)\n",
      "week 17: diff  -3.5 - picking CHI (-2.1+H) over GB  (+4.4  )\n"
     ]
    }
   ],
   "source": [
    "for n in range(100):\n",
    "    random_pick = random.sample(list(powers), k=17)\n",
    "    try:\n",
    "        pick_power_calculator(powers, schedule, random_pick, verbose=True)\n",
    "    except ValueError:\n",
    "        continue\n",
    "    break"
   ]
  },
  {
   "cell_type": "code",
   "execution_count": 9,
   "metadata": {},
   "outputs": [
    {
     "name": "stdout",
     "output_type": "stream",
     "text": [
      "week  1: diff  -4.3 - picking MIA (-0.8  ) over NE  (+0.5+H)\n",
      "week  2: diff  +2.4 - picking IND (+1.2+H) over MIN (+1.8  )\n",
      "week  3: diff  -4.1 - picking TEN (+0.7  ) over MIN (+1.8+H)\n",
      "week  4: diff  +1.0 - picking MIN (+1.8  ) over HOU (-2.2+H)\n",
      "week  5: diff -12.1 - picking LV  (+1.2  ) over KC  (+10.3+H)\n",
      "week  6: diff  +5.5 - picking KC  (+10.3  ) over BUF (+1.8+H)\n",
      "week  7: diff +11.2 - picking NO  (+6.2+H) over CAR (-2.0  )\n",
      "week  8: diff  -4.3 - picking NE  (+0.5  ) over BUF (+1.8+H)\n",
      "week  9: diff  +2.0 - picking BAL (+6.2  ) over IND (+1.2+H)\n",
      "week 10: diff  -3.7 - picking BUF (+1.8  ) over ARI (+2.5+H)\n",
      "week 11: diff  -4.5 - picking ARI (+2.5  ) over SEA (+4.0+H)\n",
      "week 12: diff  +2.4 - picking SEA (+4.0  ) over PHI (-1.4+H)\n",
      "week 13: diff  -1.1 - picking LAR (+4.4  ) over ARI (+2.5+H)\n",
      "week 14: diff  +8.3 - picking TB  (+7.1+H) over MIN (+1.8  )\n",
      "week 15: diff  +8.1 - picking SF  (+3.3  ) over DAL (-7.8+H)\n",
      "week 16: diff  +6.9 - picking PIT (+5.1+H) over IND (+1.2  )\n",
      "week 17: diff  +3.5 - picking GB  (+4.4  ) over CHI (-2.1+H)\n"
     ]
    },
    {
     "data": {
      "text/plain": [
       "[-4.3,\n",
       " 2.4,\n",
       " -4.1,\n",
       " 1.0,\n",
       " -12.100000000000001,\n",
       " 5.5,\n",
       " 11.2,\n",
       " -4.3,\n",
       " 2.0,\n",
       " -3.7,\n",
       " -4.5,\n",
       " 2.4000000000000004,\n",
       " -1.0999999999999996,\n",
       " 8.3,\n",
       " 8.1,\n",
       " 6.8999999999999995,\n",
       " 3.5]"
      ]
     },
     "execution_count": 9,
     "metadata": {},
     "output_type": "execute_result"
    }
   ],
   "source": [
    "top_picks = list(powers)[:17]\n",
    "random.shuffle(top_picks)\n",
    "pick_power_calculator(powers, schedule, top_picks, verbose=True)"
   ]
  },
  {
   "cell_type": "code",
   "execution_count": 10,
   "metadata": {},
   "outputs": [
    {
     "name": "stdout",
     "output_type": "stream",
     "text": [
      "new high score, round      6576, fitness=+17.3\n",
      "new high score, round     11172, fitness=+39.1\n",
      "new high score, round     16514, fitness=+39.8\n",
      "new high score, round     31769, fitness=+52.1\n",
      "new high score, round     32845, fitness=+78.7\n",
      "new high score, round     41074, fitness=+95.1\n",
      "new high score, round     41377, fitness=+211.5\n"
     ]
    }
   ],
   "source": [
    "top_picks = list(powers)[:17]\n",
    "best_pick = None\n",
    "best_pick_fitness = -100\n",
    "\n",
    "def fitness(scores):\n",
    "    return 100 * min(scores) + sum(scores)\n",
    "\n",
    "def fitness(scores):\n",
    "    return 50 * (min(scores) - 3) + sum(scores)\n",
    "\n",
    "picks = []\n",
    "\n",
    "HOME_POWER_BUMP = 3.0\n",
    "\n",
    "for n in range(100_000):\n",
    "    this_pick = top_picks[:]\n",
    "    random.shuffle(this_pick)\n",
    "    try:\n",
    "        scores = pick_power_calculator(powers, schedule, this_pick)\n",
    "    except ValueError:\n",
    "        continue\n",
    "    \n",
    "    pick_fitness = fitness(scores)\n",
    "    \n",
    "    if pick_fitness < 0:\n",
    "        continue\n",
    "\n",
    "    picks.append([min(scores), sum(scores)])\n",
    "    \n",
    "    if pick_fitness < best_pick_fitness:\n",
    "        continue\n",
    "    \n",
    "    print(\"new high score, round {:>9d}, fitness={:+3.1f}\".format(n, pick_fitness))\n",
    "    best_pick = this_pick\n",
    "    best_scores = scores\n",
    "    best_pick_fitness = pick_fitness\n"
   ]
  },
  {
   "cell_type": "code",
   "execution_count": 11,
   "metadata": {},
   "outputs": [
    {
     "name": "stdout",
     "output_type": "stream",
     "text": [
      "week  1: diff  +6.6 - picking IND (+1.2  ) over JAX (-8.4+H)\n",
      "week  2: diff  +9.4 - picking SF  (+3.3  ) over NYJ (-9.1+H)\n",
      "week  3: diff +10.3 - picking ARI (+2.5+H) over DET (-4.8  )\n",
      "week  4: diff  +8.3 - picking GB  (+4.4+H) over ATL (-0.9  )\n",
      "week  5: diff +12.1 - picking KC  (+10.3+H) over LV  (+1.2  )\n",
      "week  6: diff  +7.5 - picking NE  (+0.5+H) over DEN (-4.0  )\n",
      "week  7: diff +11.2 - picking NO  (+6.2+H) over CAR (-2.0  )\n",
      "week  8: diff  +4.3 - picking BUF (+1.8+H) over NE  (+0.5  )\n",
      "week  9: diff  +9.9 - picking PIT (+5.1  ) over DAL (-7.8+H)\n",
      "week 10: diff  +4.8 - picking MIA (-0.8+H) over LAC (-2.6  )\n",
      "week 11: diff +12.6 - picking MIN (+1.8+H) over DAL (-7.8  )\n",
      "week 12: diff  +4.1 - picking LAR (+4.4+H) over SF  (+3.3  )\n",
      "week 13: diff  +5.7 - picking TEN (+0.7+H) over CLE (-2.0  )\n",
      "week 14: diff +16.1 - picking SEA (+4.0+H) over NYJ (-9.1  )\n",
      "week 15: diff +17.6 - picking BAL (+6.2+H) over JAX (-8.4  )\n",
      "week 16: diff  +5.0 - picking LV  (+1.2+H) over MIA (-0.8  )\n",
      "week 17: diff +11.0 - picking TB  (+7.1+H) over ATL (-0.9  )\n"
     ]
    },
    {
     "data": {
      "text/plain": [
       "[6.6,\n",
       " 9.399999999999999,\n",
       " 10.3,\n",
       " 8.3,\n",
       " 12.100000000000001,\n",
       " 7.5,\n",
       " 11.2,\n",
       " 4.3,\n",
       " 9.899999999999999,\n",
       " 4.8,\n",
       " 12.6,\n",
       " 4.1000000000000005,\n",
       " 5.7,\n",
       " 16.1,\n",
       " 17.6,\n",
       " 5.0,\n",
       " 11.0]"
      ]
     },
     "execution_count": 11,
     "metadata": {},
     "output_type": "execute_result"
    }
   ],
   "source": [
    "pick_power_calculator(powers, schedule, best_pick, verbose=True)"
   ]
  },
  {
   "cell_type": "code",
   "execution_count": 12,
   "metadata": {
    "scrolled": true
   },
   "outputs": [
    {
     "data": {
      "text/plain": [
       "<matplotlib.collections.PathCollection at 0x7f9b37a124f0>"
      ]
     },
     "execution_count": 12,
     "metadata": {},
     "output_type": "execute_result"
    },
    {
     "data": {
      "image/png": "[encoded data removed]",
      "text/plain": [
       "<Figure size 432x288 with 1 Axes>"
      ]
     },
     "metadata": {
      "needs_background": "light"
     },
     "output_type": "display_data"
    }
   ],
   "source": [
    "best_scores = pick_power_calculator(powers, schedule, best_pick)\n",
    "best_point = [min(best_scores), sum(best_scores)]\n",
    "\n",
    "f, ax = plt.subplots()\n",
    "ax.scatter(*zip(*picks), alpha=0.2)\n",
    "\n",
    "ax.scatter(*best_point, color=\"xkcd:orange\")"
   ]
  },
  {
   "cell_type": "code",
   "execution_count": 13,
   "metadata": {
    "scrolled": false
   },
   "outputs": [
    {
     "data": {
      "text/plain": [
       "(<Figure size 576x720 with 2 Axes>,\n",
       " <matplotlib.axes._subplots.AxesSubplot at 0x7f9b350db580>)"
      ]
     },
     "execution_count": 13,
     "metadata": {},
     "output_type": "execute_result"
    },
    {
     "data": {
      "image/png": "[encoded data removed]",
      "text/plain": [
       "<Figure size 576x720 with 2 Axes>"
      ]
     },
     "metadata": {
      "needs_background": "light"
     },
     "output_type": "display_data"
    }
   ],
   "source": [
    "power_rank, matrix = pick_grid(powers, schedule, home_bump=3)\n",
    "\n",
    "def plot_matrix(matrix, power_rank, cmap=\"PiYG\"):\n",
    "    f, ax = plt.subplots()\n",
    "    f.set_size_inches((8, 10))\n",
    "    imshow = ax.imshow(np.array(matrix).T, vmax=8, vmin=-8, cmap=cmap, origin=\"lower\")\n",
    "    ax.xaxis.set_ticks(list(range(17)))\n",
    "    ax.xaxis.set_ticklabels(list(range(1, 18)))\n",
    "    ax.xaxis.set_label_text(\"Week\")\n",
    "    ax.yaxis.set_ticks(list(range(32)))\n",
    "    ax.yaxis.set_ticklabels(power_rank)\n",
    "    ax.yaxis.set_label_text(\"Pick to Win\")\n",
    "\n",
    "    f.colorbar(imshow)\n",
    "    \n",
    "    return f, ax\n",
    "\n",
    "\n",
    "plot_matrix(matrix, power_rank)"
   ]
  },
  {
   "cell_type": "code",
   "execution_count": 43,
   "metadata": {},
   "outputs": [],
   "source": [
    "class PickModes(enum.Enum):\n",
    "    BEST = \"best\"\n",
    "    RANDOM = \"random\"\n",
    "    RANDOM_BIASED = \"random_biased\"\n",
    "\n",
    "\n",
    "class PickPermuter:\n",
    "    def __init__(self, powers, schedule, home_bump=HOME_POWER_BUMP, past_picks=None):\n",
    "        self.powers = powers\n",
    "        \n",
    "        self.schedule = schedule\n",
    "        self.home_bump = home_bump\n",
    "        \n",
    "        self.update_pick_grid()\n",
    "        \n",
    "        if past_picks is None:\n",
    "            self.past_picks = []\n",
    "        else:\n",
    "            self.past_picks = list(past_picks)\n",
    "        \n",
    "        self.pick = self.greedy()\n",
    "                \n",
    "    def update_pick_grid(self):\n",
    "        self.grid_index, self.grid = pick_grid(self.powers, self.schedule, self.home_bump)\n",
    "\n",
    "    def __repr__(self):\n",
    "        score = self.pick_score\n",
    "#         return \"<{}\\n {}\\n {}\\n min={}, avg={}, max={}>\".format(\n",
    "        return \"<{}\\n {}\\n min={}, avg={}, max={}>\".format(\n",
    "            self.__class__.__name__,\n",
    "            \", \".join(f\"{p:>2s}\" for p in self.pick),\n",
    "#             \", \".join(f\"{p:>5s}\" for p in self.pick),\n",
    "#             \", \".join(f\"{s:>+4.1f}\" for s in score),\n",
    "            min(self.pick_score),\n",
    "            statistics.mean(self.pick_score),\n",
    "            max(self.pick_score),\n",
    "        )\n",
    "\n",
    "    def _make_pick(self, week, exclusions=None, mode=PickModes.BEST):\n",
    "        if exclusions is None:\n",
    "            exclusions = set()\n",
    "            \n",
    "        if mode is PickModes.BEST:\n",
    "            picks = sorted(list(zip(week, self.grid_index)), reverse=True)\n",
    "        elif mode is PickModes.RANDOM:\n",
    "            picks = list(zip(week, self.grid_index))\n",
    "            random.shuffle(picks)\n",
    "        elif mode is PickModes.RANDOM_BIASED:\n",
    "            picks = list(zip(week, self.grid_index))\n",
    "            random.shuffle(picks)\n",
    "        else:\n",
    "            raise ValueError(\"unknown pick mode\")\n",
    "        for _score, pick in picks:\n",
    "            if pick in exclusions:\n",
    "                continue\n",
    "            return pick    \n",
    "        raise RuntimeError(\"no valid pick\")\n",
    "    \n",
    "    def random(self):\n",
    "        picks = self.past_picks[:] + [None] * (NUM_WEEKS - len(self.past_picks))\n",
    "        n_weeks = list(range(len(self.past_picks), NUM_WEEKS))\n",
    "        random.shuffle(n_weeks)\n",
    "        for n_week in n_weeks:\n",
    "            week = self.grid[n_week]\n",
    "            pick = self._make_pick(week, exclusions=picks, mode=PickModes.RANDOM)\n",
    "            picks[n_week] = pick\n",
    "        return picks\n",
    "\n",
    "    def greedy(self):\n",
    "        picks = self.past_picks[:]\n",
    "        for week in self.grid[len(picks):]:\n",
    "            pick = self._make_pick(week, exclusions=picks)\n",
    "            picks.append(pick)\n",
    "        assert len(picks) == len(self.grid) == 17\n",
    "        return picks\n",
    "    \n",
    "    def reverse_greedy(self):\n",
    "#         picks = self.past_picks[:]\n",
    "        picks = []\n",
    "        for week in reversed(self.grid[len(self.past_picks):]):\n",
    "            pick = self._make_pick(week, exclusions=picks + self.past_picks)\n",
    "            picks.append(pick)\n",
    "        picks = self.past_picks + picks[::-1]\n",
    "        assert len(picks) == len(self.grid) == NUM_WEEKS\n",
    "        return picks\n",
    "    \n",
    "    def random_greedy(self):\n",
    "        picks = self.past_picks[:] + [None] * (NUM_WEEKS - len(self.past_picks))\n",
    "        n_weeks = list(range(len(self.past_picks), NUM_WEEKS))\n",
    "        random.shuffle(n_weeks)\n",
    "        for n_week in n_weeks:\n",
    "            week = self.grid[n_week]\n",
    "            pick = self._make_pick(week, exclusions=picks)\n",
    "            picks[n_week] = pick\n",
    "        return picks\n",
    "\n",
    "    def limited_greedy(self, limit=10):\n",
    "        picks = self.past_picks[:]\n",
    "        for week in self.grid[len(picks):]:\n",
    "            worst_picks = sorted(list(zip(week, self.grid_index)))\n",
    "            pivot_index = bisect.bisect_left(worst_picks, (limit, \"X\"))\n",
    "            order = (worst_picks[pivot_index:] + list(reversed(worst_picks[:pivot_index])))\n",
    "            for _score, pick in order:\n",
    "                if pick not in picks:\n",
    "                    picks.append(pick)\n",
    "                    break\n",
    "            else:\n",
    "                raise RuntimeError()\n",
    "        assert len(picks) == len(self.grid) == 17\n",
    "        return picks\n",
    "    \n",
    "    def greedy_anneal(self):\n",
    "        picks = self.greedy()\n",
    "    \n",
    "    @property\n",
    "    def pick_score(self):\n",
    "        return pick_power_calculator(self.powers, self.schedule, self.pick, home_power=self.home_bump)\n",
    "    \n",
    "    def describe_pick(self):\n",
    "        pick_power_calculator(\n",
    "            self.powers, self.schedule, self.pick, \n",
    "            home_power=self.home_bump, \n",
    "            verbose=True, \n",
    "            ignore_weeks=len(self.past_picks),\n",
    "        )\n",
    "        \n",
    "    @property\n",
    "    def fitness(self):\n",
    "#         return sum(score * k for score, k in zip(heapq.nsmallest(3, self.pick_score), [10, 3, 1]))\n",
    "        return sum(score * 2**n for n, score in enumerate(sorted(self.pick_score, reverse=True)))"
   ]
  },
  {
   "cell_type": "code",
   "execution_count": 61,
   "metadata": {},
   "outputs": [],
   "source": [
    "my_past_picks = [\n",
    "    \"KC\",  # week 1\n",
    "    \"TEN\", # week 2\n",
    "    \"IND\", # week 3\n",
    "    \"LAR\", # week 4\n",
    "    \"DAL\", # week 5\n",
    "    \"MIA\", # week 6\n",
    "    \"BUF\", # week 7\n",
    "    \"TB\",  # week 8\n",
    "    \"PIT\", # week 9\n",
    "    \"GB\",  # week 10\n",
    "]\n",
    "\n",
    "tuned_home_bump = 1.5\n",
    "\n",
    "ppkwargs = {\n",
    "    \"powers\": powers,\n",
    "    \"schedule\": schedule,\n",
    "    \"home_bump\": tuned_home_bump,\n",
    "    \"past_picks\": my_past_picks\n",
    "}"
   ]
  },
  {
   "cell_type": "markdown",
   "metadata": {},
   "source": [
    "## Tuning Parameters"
   ]
  },
  {
   "cell_type": "code",
   "execution_count": 101,
   "metadata": {
    "scrolled": true
   },
   "outputs": [
    {
     "data": {
      "text/plain": [
       "<matplotlib.collections.PathCollection at 0x7fc4dc3d9520>"
      ]
     },
     "execution_count": 101,
     "metadata": {},
     "output_type": "execute_result"
    },
    {
     "data": {
      "image/png": "[encoded data removed]",
      "text/plain": [
       "<Figure size 432x288 with 1 Axes>"
      ]
     },
     "metadata": {
      "needs_background": "light"
     },
     "output_type": "display_data"
    }
   ],
   "source": [
    "f, ax = plt.subplots()\n",
    "ax.scatter(*zip(*picks), alpha=0.2)\n",
    "\n",
    "ax.scatter(*best_point, color=\"xkcd:green\")\n",
    "\n",
    "def coord_no_past_picks(picker):\n",
    "    n_past_picks = len(picker.past_picks)\n",
    "    n_future_picks = NUM_WEEKS - n_past_picks\n",
    "    \n",
    "    future_picks = pp.pick_score[n_past_picks:]\n",
    "    \n",
    "    normalized_sum = NUM_WEEKS * sum(future_picks) / n_future_picks\n",
    "    return min(future_picks), normalized_sum\n",
    "\n",
    "# ax.scatter(min(pp.pick_score), sum(pp.pick_score), color=\"xkcd:red\")\n",
    "# ax.scatter(min(pplg.pick_score), sum(pplg.pick_score), color=\"xkcd:purple\")\n",
    "# ax.scatter(min(pprand.pick_score), sum(pprand.pick_score), color=\"xkcd:cyan\")\n",
    "# ax.scatter(min(pprev.pick_score), sum(pprev.pick_score), color=\"xkcd:orange\")\n",
    "\n",
    "ax.scatter(*coord_no_past_picks(pp), color=\"xkcd:red\")\n",
    "ax.scatter(*coord_no_past_picks(pplg), color=\"xkcd:purple\")\n",
    "ax.scatter(*coord_no_past_picks(pprand), color=\"xkcd:cyan\")\n",
    "ax.scatter(*coord_no_past_picks(pprev), color=\"xkcd:orange\")"
   ]
  },
  {
   "cell_type": "code",
   "execution_count": 326,
   "metadata": {},
   "outputs": [
    {
     "name": "stdout",
     "output_type": "stream",
     "text": [
      "week  1: diff +13.7 - picking KC  (+8.8+H) over HOU (-1.9  )\n",
      "week  2: diff +11.7 - picking TEN (+1.6+H) over JAX (-7.1  )\n",
      "week  3: diff +11.6 - picking SEA (+5.3+H) over DAL (-3.3  )\n",
      "week  4: diff +15.5 - picking LAR (+5.2+H) over NYG (-7.3  )\n",
      "week  5: diff +15.0 - picking BAL (+7.3+H) over CIN (-4.7  )\n",
      "week  6: diff  +9.9 - picking MIA (-1.0+H) over NYJ (-7.9  )\n",
      "week  7: diff  +8.1 - picking PHI (-2.2+H) over NYG (-7.3  )\n",
      "week  8: diff  +9.1 - picking TB  (+4.8  ) over NYG (-7.3+H)\n",
      "week  9: diff  +7.8 - picking MIN (+1.2+H) over DET (-3.6  )\n",
      "week 10: diff +15.0 - picking GB  (+4.9+H) over JAX (-7.1  )\n",
      "week 11: diff  +8.7 - picking NO  (+3.7+H) over ATL (-2.0  )\n",
      "week 12: diff  +8.4 - picking BUF (+2.0+H) over LAC (-3.4  )\n",
      "week 13: diff +10.2 - picking PIT (+2.0+H) over WSH (-5.2  )\n",
      "week 14: diff +11.3 - picking SF  (+3.1+H) over WSH (-5.2  )\n",
      "week 15: diff  +7.6 - picking LV  (+1.2+H) over LAC (-3.4  )\n",
      "week 16: diff  +5.8 - picking HOU (-1.9+H) over CIN (-4.7  )\n",
      "week 17: diff +13.0 - picking NE  (+2.1+H) over NYJ (-7.9  )\n",
      "--------------------\n",
      "week  1: diff +12.9 - picking BUF (+2.0+H) over NYJ (-7.9  )\n",
      "week  2: diff +11.7 - picking TEN (+1.6+H) over JAX (-7.1  )\n",
      "week  3: diff +11.6 - picking IND (+0.7+H) over NYJ (-7.9  )\n",
      "week  4: diff  +8.3 - picking SF  (+3.1+H) over PHI (-2.2  )\n",
      "week  5: diff  +8.2 - picking HOU (-1.9+H) over JAX (-7.1  )\n",
      "week  6: diff  +9.9 - picking MIA (-1.0+H) over NYJ (-7.9  )\n",
      "week  7: diff  +8.1 - picking PHI (-2.2+H) over NYG (-7.3  )\n",
      "week  8: diff  +9.1 - picking TB  (+4.8  ) over NYG (-7.3+H)\n",
      "week  9: diff  +7.0 - picking NE  (+2.1  ) over NYJ (-7.9+H)\n",
      "week 10: diff  +9.7 - picking PIT (+2.0+H) over CIN (-4.7  )\n",
      "week 11: diff  +8.7 - picking NO  (+3.7+H) over ATL (-2.0  )\n",
      "week 12: diff  +9.3 - picking GB  (+4.9+H) over CHI (-1.4  )\n",
      "week 13: diff +11.3 - picking MIN (+1.2+H) over JAX (-7.1  )\n",
      "week 14: diff +16.2 - picking SEA (+5.3+H) over NYJ (-7.9  )\n",
      "week 15: diff +16.1 - picking LAR (+5.2+H) over NYJ (-7.9  )\n",
      "week 16: diff +17.6 - picking BAL (+7.3+H) over NYG (-7.3  )\n",
      "week 17: diff +15.2 - picking KC  (+8.8+H) over LAC (-3.4  )\n"
     ]
    }
   ],
   "source": [
    "ppgh3 = PickPermuter(powers, schedule, home_bump=3)\n",
    "ppgh3.pick = ppgh3.greedy()\n",
    "ppgh3.describe_pick()\n",
    "\n",
    "print(\"-\" * 20)\n",
    "\n",
    "pplgh3 = PickPermuter(powers, schedule, home_bump=3)\n",
    "pplgh3.pick = pplgh3.reverse_greedy()\n",
    "pplgh3.describe_pick()"
   ]
  },
  {
   "cell_type": "code",
   "execution_count": 327,
   "metadata": {
    "scrolled": true
   },
   "outputs": [
    {
     "data": {
      "text/plain": [
       "<matplotlib.collections.PathCollection at 0x7fe534ba1ac0>"
      ]
     },
     "execution_count": 327,
     "metadata": {},
     "output_type": "execute_result"
    },
    {
     "data": {
      "image/png": "[encoded data removed]",
      "text/plain": [
       "<Figure size 432x288 with 1 Axes>"
      ]
     },
     "metadata": {
      "needs_background": "light"
     },
     "output_type": "display_data"
    }
   ],
   "source": [
    "f, ax = plt.subplots()\n",
    "ax.scatter(*zip(*picks), alpha=0.1)\n",
    "\n",
    "ax.scatter(*best_point, color=\"xkcd:orange\")\n",
    "\n",
    "ax.scatter(min(pp.pick_score), sum(pp.pick_score), color=\"xkcd:red\")\n",
    "ax.scatter(min(pplg.pick_score), sum(pplg.pick_score), color=\"xkcd:purple\")\n",
    "ax.scatter(min(ppgh3.pick_score), sum(ppgh3.pick_score), color=\"xkcd:yellow\")\n",
    "ax.scatter(min(pplgh3.pick_score), sum(pplgh3.pick_score), color=\"xkcd:green\")"
   ]
  },
  {
   "cell_type": "code",
   "execution_count": 328,
   "metadata": {
    "scrolled": false
   },
   "outputs": [
    {
     "name": "stdout",
     "output_type": "stream",
     "text": [
      "week  1: diff +11.7 - picking KC  (+8.8+H) over HOU (-1.9  )\n",
      "week  2: diff +10.0 - picking SF  (+3.1  ) over NYJ (-7.9+H)\n",
      "week  3: diff  +9.6 - picking SEA (+5.3+H) over DAL (-3.3  )\n",
      "week  4: diff +13.5 - picking LAR (+5.2+H) over NYG (-7.3  )\n",
      "week  5: diff +13.0 - picking BAL (+7.3+H) over CIN (-4.7  )\n",
      "week  6: diff  +7.9 - picking MIA (-1.0+H) over NYJ (-7.9  )\n",
      "week  7: diff  +8.9 - picking BUF (+2.0  ) over NYJ (-7.9+H)\n",
      "week  8: diff +11.1 - picking TB  (+4.8  ) over NYG (-7.3+H)\n",
      "week  9: diff  +9.0 - picking NE  (+2.1  ) over NYJ (-7.9+H)\n",
      "week 10: diff +13.0 - picking GB  (+4.9+H) over JAX (-7.1  )\n",
      "week 11: diff  +8.1 - picking PIT (+2.0  ) over JAX (-7.1+H)\n",
      "week 12: diff  +6.8 - picking CLE (+0.7  ) over JAX (-7.1+H)\n",
      "week 13: diff  +9.3 - picking MIN (+1.2+H) over JAX (-7.1  )\n",
      "week 14: diff  +7.7 - picking TEN (+1.6  ) over JAX (-7.1+H)\n",
      "week 15: diff  +5.6 - picking LV  (+1.2+H) over LAC (-3.4  )\n",
      "week 16: diff  +4.7 - picking CHI (-1.4  ) over JAX (-7.1+H)\n",
      "week 17: diff  +8.8 - picking IND (+0.7+H) over JAX (-7.1  )\n",
      "--------------------\n",
      "week  1: diff  +6.3 - picking SEA (+5.3  ) over ATL (-2.0+H)\n",
      "week  2: diff  +6.1 - picking ARI (-0.1+H) over WSH (-5.2  )\n",
      "week  3: diff  +6.2 - picking TB  (+4.8  ) over DEN (-2.4+H)\n",
      "week  4: diff  +6.3 - picking NO  (+3.7  ) over DET (-3.6+H)\n",
      "week  5: diff  +6.2 - picking HOU (-1.9+H) over JAX (-7.1  )\n",
      "week  6: diff  +6.4 - picking IND (+0.7+H) over CIN (-4.7  )\n",
      "week  7: diff  +6.1 - picking PHI (-2.2+H) over NYG (-7.3  )\n",
      "week  8: diff  +6.3 - picking BAL (+7.3+H) over PIT (+2.0  )\n",
      "week  9: diff  +9.0 - picking NE  (+2.1  ) over NYJ (-7.9+H)\n",
      "week 10: diff  +7.7 - picking PIT (+2.0+H) over CIN (-4.7  )\n",
      "week 11: diff  +6.6 - picking KC  (+8.8  ) over LV  (+1.2+H)\n",
      "week 12: diff  +6.4 - picking BUF (+2.0+H) over LAC (-3.4  )\n",
      "week 13: diff  +8.1 - picking LV  (+1.2  ) over NYJ (-7.9+H)\n",
      "week 14: diff  +7.5 - picking GB  (+4.9  ) over DET (-3.6+H)\n",
      "week 15: diff  +6.2 - picking TEN (+1.6+H) over DET (-3.6  )\n",
      "week 16: diff  +7.6 - picking CLE (+0.7  ) over NYJ (-7.9+H)\n",
      "week 17: diff  +6.3 - picking LAR (+5.2+H) over ARI (-0.1  )\n"
     ]
    }
   ],
   "source": [
    "ppgh1 = PickPermuter(powers, schedule, home_bump=1)\n",
    "ppgh1.pick = ppgh1.greedy()\n",
    "ppgh1.describe_pick()\n",
    "\n",
    "print(\"-\" * 20)\n",
    "\n",
    "pplgh1 = PickPermuter(powers, schedule, home_bump=1)\n",
    "pplgh1.pick = pplgh1.limited_greedy(6)\n",
    "pplgh1.describe_pick()"
   ]
  },
  {
   "cell_type": "code",
   "execution_count": 329,
   "metadata": {},
   "outputs": [],
   "source": [
    "ppv = PickPermuter(powers, schedule, home_bump=2.0)\n",
    "\n",
    "def fitness(scores):\n",
    "    return min(scores) + statistics.mean(scores) / 2\n",
    "\n",
    "fits = []\n",
    "for limiter in np.linspace(4, 10, num=100):\n",
    "    ppv.pick = ppv.limited_greedy(limiter)\n",
    "    fits.append((limiter, min(ppv.pick_score), statistics.mean(ppv.pick_score)))"
   ]
  },
  {
   "cell_type": "code",
   "execution_count": 330,
   "metadata": {},
   "outputs": [
    {
     "data": {
      "image/png": "[encoded data removed]",
      "text/plain": [
       "<Figure size 432x288 with 1 Axes>"
      ]
     },
     "metadata": {
      "needs_background": "light"
     },
     "output_type": "display_data"
    }
   ],
   "source": [
    "f, ax = plt.subplots()\n",
    "x, y1, y2 = zip(*fits)\n",
    "ax.plot(x, y1)\n",
    "ax.plot(x, y2)\n",
    "\n",
    "ppv.pick = ppv.greedy()\n",
    "# ax.plot(10, fitness(ppv.pick_score), \"bo\")"
   ]
  },
  {
   "cell_type": "code",
   "execution_count": 331,
   "metadata": {},
   "outputs": [
    {
     "name": "stdout",
     "output_type": "stream",
     "text": [
      "week  1: diff +12.7 - picking KC  (+8.8+H) over HOU (-1.9  )\n",
      "week  2: diff +10.7 - picking TEN (+1.6+H) over JAX (-7.1  )\n",
      "week  3: diff +10.6 - picking SEA (+5.3+H) over DAL (-3.3  )\n",
      "week  4: diff +14.5 - picking LAR (+5.2+H) over NYG (-7.3  )\n",
      "week  5: diff +14.0 - picking BAL (+7.3+H) over CIN (-4.7  )\n",
      "week  6: diff  +8.9 - picking MIA (-1.0+H) over NYJ (-7.9  )\n",
      "week  7: diff  +7.9 - picking BUF (+2.0  ) over NYJ (-7.9+H)\n",
      "week  8: diff +10.1 - picking TB  (+4.8  ) over NYG (-7.3+H)\n",
      "week  9: diff  +8.0 - picking NE  (+2.1  ) over NYJ (-7.9+H)\n",
      "week 10: diff +14.0 - picking GB  (+4.9+H) over JAX (-7.1  )\n",
      "week 11: diff  +7.7 - picking NO  (+3.7+H) over ATL (-2.0  )\n",
      "week 12: diff  +5.8 - picking CLE (+0.7  ) over JAX (-7.1+H)\n",
      "week 13: diff +10.3 - picking MIN (+1.2+H) over JAX (-7.1  )\n",
      "week 14: diff +10.3 - picking SF  (+3.1+H) over WSH (-5.2  )\n",
      "week 15: diff  +6.6 - picking LV  (+1.2+H) over LAC (-3.4  )\n",
      "week 16: diff  +4.8 - picking HOU (-1.9+H) over CIN (-4.7  )\n",
      "week 17: diff  +9.8 - picking IND (+0.7+H) over JAX (-7.1  )\n"
     ]
    }
   ],
   "source": [
    "ppv.describe_pick()"
   ]
  },
  {
   "cell_type": "code",
   "execution_count": 332,
   "metadata": {},
   "outputs": [
    {
     "name": "stdout",
     "output_type": "stream",
     "text": [
      "week  1: diff  +7.3 - picking PIT (+2.0  ) over NYG (-7.3+H)\n",
      "week  2: diff  +7.1 - picking ARI (-0.1+H) over WSH (-5.2  )\n",
      "week  3: diff  +7.9 - picking CLE (+0.7+H) over WSH (-5.2  )\n",
      "week  4: diff  +7.3 - picking SF  (+3.1+H) over PHI (-2.2  )\n",
      "week  5: diff  +7.2 - picking HOU (-1.9+H) over JAX (-7.1  )\n",
      "week  6: diff  +7.4 - picking IND (+0.7+H) over CIN (-4.7  )\n",
      "week  7: diff  +6.6 - picking NO  (+3.7+H) over CAR (-0.9  )\n",
      "week  8: diff  +7.3 - picking BAL (+7.3+H) over PIT (+2.0  )\n",
      "week  9: diff  +6.8 - picking MIN (+1.2+H) over DET (-3.6  )\n",
      "week 10: diff +14.0 - picking GB  (+4.9+H) over JAX (-7.1  )\n",
      "week 11: diff  +7.4 - picking SEA (+5.3+H) over ARI (-0.1  )\n",
      "week 12: diff  +7.4 - picking BUF (+2.0+H) over LAC (-3.4  )\n",
      "week 13: diff  +7.1 - picking LV  (+1.2  ) over NYJ (-7.9+H)\n",
      "week 14: diff  +6.7 - picking TEN (+1.6  ) over JAX (-7.1+H)\n",
      "week 15: diff +15.1 - picking LAR (+5.2+H) over NYJ (-7.9  )\n",
      "week 16: diff +12.8 - picking KC  (+8.8+H) over ATL (-2.0  )\n",
      "week 17: diff  +8.8 - picking TB  (+4.8+H) over ATL (-2.0  )\n"
     ]
    }
   ],
   "source": [
    "ppv.pick = ppv.limited_greedy(6.6)\n",
    "ppv.describe_pick()"
   ]
  },
  {
   "cell_type": "code",
   "execution_count": 333,
   "metadata": {},
   "outputs": [
    {
     "name": "stdout",
     "output_type": "stream",
     "text": [
      "week  1: diff +10.5 - picking LAR (+5.2+H) over DAL (-3.3  )\n",
      "week  2: diff +10.2 - picking KC  (+8.8  ) over LAC (-3.4+H)\n",
      "week  3: diff +10.6 - picking IND (+0.7+H) over NYJ (-7.9  )\n",
      "week  4: diff +10.2 - picking TB  (+4.8+H) over LAC (-3.4  )\n",
      "week  5: diff  +9.1 - picking NO  (+3.7+H) over LAC (-3.4  )\n",
      "week  6: diff  +8.9 - picking MIA (-1.0+H) over NYJ (-7.9  )\n",
      "week  7: diff  +7.9 - picking BUF (+2.0  ) over NYJ (-7.9+H)\n",
      "week  8: diff  +7.3 - picking BAL (+7.3+H) over PIT (+2.0  )\n",
      "week  9: diff  +8.0 - picking NE  (+2.1  ) over NYJ (-7.9+H)\n",
      "week 10: diff +14.0 - picking GB  (+4.9+H) over JAX (-7.1  )\n",
      "week 11: diff  +7.4 - picking SEA (+5.3+H) over ARI (-0.1  )\n",
      "week 12: diff  +5.8 - picking CLE (+0.7  ) over JAX (-7.1+H)\n",
      "week 13: diff  +9.2 - picking PIT (+2.0+H) over WSH (-5.2  )\n",
      "week 14: diff +10.3 - picking SF  (+3.1+H) over WSH (-5.2  )\n",
      "week 15: diff  +7.2 - picking TEN (+1.6+H) over DET (-3.6  )\n",
      "week 16: diff  +4.8 - picking HOU (-1.9+H) over CIN (-4.7  )\n",
      "week 17: diff  +5.0 - picking PHI (-2.2+H) over WSH (-5.2  )\n"
     ]
    }
   ],
   "source": [
    "ppv.pick = ppv.limited_greedy(9)\n",
    "ppv.describe_pick()"
   ]
  },
  {
   "cell_type": "code",
   "execution_count": null,
   "metadata": {},
   "outputs": [],
   "source": []
  }
 ],
 "metadata": {
  "kernelspec": {
   "display_name": "Global 3.8",
   "language": "python",
   "name": "global3"
  },
  "language_info": {
   "codemirror_mode": {
    "name": "ipython",
    "version": 3
   },
   "file_extension": ".py",
   "mimetype": "text/x-python",
   "name": "python",
   "nbconvert_exporter": "python",
   "pygments_lexer": "ipython3",
   "version": "3.8.2"
  }
 },
 "nbformat": 4,
 "nbformat_minor": 4
}
